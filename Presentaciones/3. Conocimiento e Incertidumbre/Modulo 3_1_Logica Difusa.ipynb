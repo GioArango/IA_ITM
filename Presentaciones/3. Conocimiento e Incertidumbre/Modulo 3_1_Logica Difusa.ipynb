{
 "cells": [
  {
   "cell_type": "markdown",
   "metadata": {},
   "source": [
    " <img src=\"res/itm_logo.jpg\" width=\"300px\">\n",
    "\n",
    "## Inteligencia Artificial - IAI84\n",
    "### Instituto Tecnológico Metropolitano\n",
    "#### Pedro Atencio Ortiz - 2017\n",
    "\n",
    "<font size=1>Parte de este material es autoría del profesor Cristian Guarnizo de la Universidad Tecnológica de Pereira. A él damos créditos.</font>\n",
    "\n",
    "En este notebook se aborda el tema de lógica difusa utilizando códigos ejecutables en Python:\n",
    "<ul>\n",
    "    <li>Conjuntos difusos.</li>\n",
    "    <li>Funciones de pertenencia.</li>\n",
    "     <li>Variable difusa.</li>\n",
    "    <li>Fusificación (emborrosamiento).</li>\n",
    "    <li>Base de reglas.</li>\n",
    "    <li>Operadores difusos.</li>\n",
    "    <li>Desfusificación.</li>\n",
    "</ul>"
   ]
  },
  {
   "cell_type": "markdown",
   "metadata": {},
   "source": [
    "<hr>\n",
    "## Módulo 3_1: Logica Difusa\n",
    "<img src=\"res/fuzzy/fuzzy.gif\" width=\"400px\">"
   ]
  },
  {
   "cell_type": "markdown",
   "metadata": {
    "collapsed": true
   },
   "source": [
    "<hr>\n",
    "<font size=3>\n",
    "En términos reducidos, la lógica borrosa es un tipo de lógica que permite valores imprecisos (intermedios) para poder definir evaluaciones convencionales entre sí/no, verdadero/falso, negro/blanco, etc.</font>\n",
    "\n",
    "<br>\n",
    "<center><font size=5 color=\"blue\">\"El poder de la lógica difusa radica en que se puede analizar un sistema utilizando variables lingüísticas\" [5].</font></center>\n"
   ]
  },
  {
   "cell_type": "markdown",
   "metadata": {},
   "source": [
    "<hr>\n",
    "## Conjunto Booleano\n",
    "En el algebra de Boole(George Boole) las variables toman valores falso/verdadero $(0,1)$.  Definamos un conjunto $A=[3,5]$ y $x \\in \\left \\{ 0,7 \\right \\}$.  Los valores de x que pertenecen a A reciben valor verdadero (1). \n",
    "\n",
    "<img src=\"res/fuzzy/boolean_set.png\" width=400>\n",
    "\n",
    "Por ejemplo, para el caso de la variable temperatura, si quisiermos definir los valores temperatura baja, media y alta, utilizando lógica booleana, tendríamos:\n",
    "\n",
    "<img src=\"res/fuzzy/boolean_temperature.png\" width=400>\n",
    "\n",
    "En el ejemplo anterior, un elemento (valor de temperatura) tiene un grado de pertenencia a un conjunto o grupo, entonces, <font color=\"red\">¿A los 15 grados Celsius la temperatura es baja y repentinamente a los 16 es media?</font>"
   ]
  },
  {
   "cell_type": "code",
   "execution_count": 78,
   "metadata": {
    "collapsed": true
   },
   "outputs": [],
   "source": [
    "\"\"\"\n",
    "Implements a Boolean set.\n",
    "\n",
    "Arguments:\n",
    "x_domain -- domain of variable x (array)\n",
    "x_set -- tuple of values that represents the set within domain of x\n",
    "\n",
    "Returns:\n",
    "parameters -- boolean (True, False) list of values inside x_set\n",
    "\"\"\"\n",
    "import numpy as np\n",
    "\n",
    "def boolean_set(x_domain, x_set):\n",
    "    val = np.logical_and(x_domain >= x_set[0], x_domain <= x_set[1])\n",
    "    return val"
   ]
  },
  {
   "cell_type": "markdown",
   "metadata": {},
   "source": [
    "Grafiquemos algunos conjuntos Booleanos para una variable $x$ en el rango 0, 10"
   ]
  },
  {
   "cell_type": "code",
   "execution_count": 79,
   "metadata": {},
   "outputs": [
    {
     "data": {
      "image/png": "[encoded data removed]",
      "text/plain": [
       "<matplotlib.figure.Figure at 0x989d2e8>"
      ]
     },
     "metadata": {},
     "output_type": "display_data"
    }
   ],
   "source": [
    "import matplotlib.pyplot as plt\n",
    "\n",
    "limit1 = 0\n",
    "limit2 = 10\n",
    "domain = np.linspace(limit1, limit2, 500)\n",
    "\n",
    "set1 = (1,3)\n",
    "bool_set_1 = boolean_set(domain,set1)\n",
    "\n",
    "set2 = (4,6.5)\n",
    "bool_set_2 = boolean_set(domain,set2)\n",
    "\n",
    "set3 = (7,9)\n",
    "bool_set_3 = boolean_set(domain,set3)\n",
    "\n",
    "plt.fill(domain, bool_set_1)\n",
    "plt.fill(domain, bool_set_2)\n",
    "plt.fill(domain, bool_set_3)\n",
    "\n",
    "\n",
    "plt.title(\"Three Boolean sets for variable x\")\n",
    "plt.show()"
   ]
  },
  {
   "cell_type": "markdown",
   "metadata": {},
   "source": [
    "<hr>\n",
    "## <font color=\"red\"> Trabajemos!</font>\n",
    "Implemente los conjuntos Booleanos que definen la mayoría de edad de una persona en Colombia."
   ]
  },
  {
   "cell_type": "markdown",
   "metadata": {},
   "source": [
    "<hr>\n",
    "## Conjunto difuso ($\\mu$)\n",
    "\n",
    "En un conjunto difuso, los grados de pertenencia son continuos y no binarios (falso, verdadero), de forma tal que una variable puede pertenecer en distinto grado a varios conjuntos. \n",
    "\n",
    "En el siguiente ejemplo definimos tres conjuntos difusos $\\mu_{baja}, \\mu_{media}$ y $\\mu_{alta}$, para la variable temperatura, en el rango [0, 45] grados centigrados.\n",
    "\n",
    "<img src=\"res/fuzzy/fuzzy_set.png\">\n",
    "\n",
    "En el caso anterior, <font color=\"red\">¿un valor de temperatura igual a 17 grados será baja o media?</font>"
   ]
  },
  {
   "cell_type": "markdown",
   "metadata": {
    "collapsed": true
   },
   "source": [
    "<hr>\n",
    "## Funciones de pertenencia\n",
    "\n",
    "Un conjunto difuso $\\mu$ se define mediante una función de pertenencia. Dicha función define la forma en que se distribuye la pertenencia de una variable $x$ a un conjunto $S$ cambia. A continuación, algunas funciones de pertenencia y su definición algebraica:\n",
    "\n",
    "<img src=\"res/fuzzy/functions.png\">\n",
    "\n",
    "Dependiendo de la naturaleza de la variable que se estudia, se define el número de conjuntos difusos y la función de pertenencia de cada uno."
   ]
  },
  {
   "cell_type": "markdown",
   "metadata": {},
   "source": [
    "<hr>\n",
    "## <font color=\"red\">Trabajemos!</font>\n",
    "Defina los conjuntos difusos para la variable edad, respecto a las categorías infante, adolescente, adulto, cenil."
   ]
  },
  {
   "cell_type": "markdown",
   "metadata": {},
   "source": [
    "<hr>\n",
    "## Variable difusa ($x_{fuzzy}$)\n",
    "\n",
    "Una variable difusa está conformada por los valores de pertencia de dicha variable respecto a cada conjunto. Entonces, la variable temperatura que estudiamos anteriormente se define como:\n",
    "\n",
    "<br>\n",
    "<center><font size=5>$t_{fuzzy}=[\\mu_{baja}(t), \\mu_{media}(t), \\mu_{alta}(t)]$</font></center>\n",
    "\n",
    "<img src=\"res/fuzzy/fuzzy_set.png\">\n"
   ]
  },
  {
   "cell_type": "markdown",
   "metadata": {},
   "source": [
    "<hr>\n",
    "## Fusificación\n",
    "\n",
    "Esta operación consiste en transformar una variable normal (crisp) en una variable fuzzy. Para ello, se aplica calcula por cada conjunto difuso, el grado de pertenencia de dicha variable.  Por ejemplo para el caso de la temperatura, supongamos el caso $t=10$, entonces:\n",
    "\n",
    "<br>\n",
    "<font size=4>\n",
    "<ul>\n",
    "    <li>$\\mu_{baja}(t) = 1$</li>\n",
    "    <li>$\\mu_{media}(t) = 0$</li>\n",
    "    <li>$\\mu_{alta}(t) = 0$</li>\n",
    "</ul>\n",
    "\n",
    "<center>Por lo tanto <font color=\"red\">$t_{fuzzy}=[1,0,0]$</font></center>\n",
    "</font>"
   ]
  },
  {
   "cell_type": "code",
   "execution_count": 44,
   "metadata": {
    "collapsed": true
   },
   "outputs": [],
   "source": [
    "\"\"\"\n",
    "Implements a membership function.\n",
    "\n",
    "Arguments:\n",
    "x -- crisp variable\n",
    "membership_function -- string with the name of membership function: \"trapezoid\", \"triangular\"\n",
    "parameters -- dictionary of parameters for membership function\n",
    "\n",
    "Returns:\n",
    "m_x -- float membership of x with respect to memebership_function\n",
    "\"\"\"\n",
    "import numpy as np\n",
    "\n",
    "def membership(x, membership_function, parameters):\n",
    "    m_x = 0\n",
    "    \n",
    "    if(membership_function == \"trapezoid\"):\n",
    "        a = float(parameters[\"a\"])\n",
    "        b = float(parameters[\"b\"])\n",
    "        c = float(parameters[\"c\"])\n",
    "        d = float(parameters[\"d\"])\n",
    "        \n",
    "        if(x <= a or x >= d):\n",
    "            m_x = 0\n",
    "        elif(x >= a and x <= b):\n",
    "            m_x = (x-a)/(b-a)\n",
    "        elif(x > b and x < c):\n",
    "            m_x = 1\n",
    "        elif(x >= c and x < d):\n",
    "            m_x = (d-x)/(d-c)\n",
    "            \n",
    "    \n",
    "    elif(membership_function == \"triangular\"):\n",
    "        a = float(parameters[\"a\"])\n",
    "        m = float(parameters[\"m\"])\n",
    "        b = float(parameters[\"b\"])\n",
    "        \n",
    "        if(x <= a):\n",
    "            m_x = 0\n",
    "        elif(x > a and x <= m):\n",
    "            m_x = (x-a)/(m-a)\n",
    "        elif(x > m and x < b):\n",
    "            m_x = (b-x)/(b-m)\n",
    "        else:\n",
    "            m_x = 0\n",
    "    \n",
    "    return m_x"
   ]
  },
  {
   "cell_type": "markdown",
   "metadata": {},
   "source": [
    "## <font color=\"red\">Trabajemos!</font>\n",
    "Utilizando las funciones de pertenencia implementadas, fusificar la variable $temperatura=16.7$:"
   ]
  },
  {
   "cell_type": "code",
   "execution_count": 58,
   "metadata": {},
   "outputs": [
    {
     "name": "stdout",
     "output_type": "stream",
     "text": [
      "temperatura fuzzy:  [0.6600000000000001]\n"
     ]
    }
   ],
   "source": [
    "#Completar: aproximadamente 3 lineas de codigo\n",
    "parameters_conjunto_baja = {\"a\":0, \"b\":0, \"c\":15, \"d\":20}\n",
    "\n",
    "t = 16.7\n",
    "\n",
    "#completar: aproximadamente 3 lineas de codigo\n",
    "miu_baja = membership(t, \"trapezoid\", parameters_conjunto_baja)\n",
    "\n",
    "#completar la lista de pertenencias\n",
    "t_fuzzy = [miu_baja]\n",
    "\n",
    "print \"temperatura fuzzy: \", t_fuzzy"
   ]
  },
  {
   "cell_type": "markdown",
   "metadata": {
    "collapsed": true
   },
   "source": [
    "## <font color=\"red\">Trabajemos!</font>\n",
    "Implementar una función generica fusificacion que calcule automáticamente la fusificación de una variable x respecto a n conjuntos difusos:"
   ]
  },
  {
   "cell_type": "code",
   "execution_count": 97,
   "metadata": {
    "collapsed": true
   },
   "outputs": [],
   "source": [
    "\"\"\"\n",
    "Implements a fuzzify function.\n",
    "\n",
    "Arguments:\n",
    "x -- crisp variable\n",
    "fuzzy_sets -- dictionary with next form: {\"set_name\":(membership_function, parameters)}\n",
    "    membership_function: string with the name of membership_function: \"trapezoid\", \"triangular\"\n",
    "    parameters -- dictionary of parameters for membership function\n",
    "\n",
    "Returns:\n",
    "f_x -- list of membership values of x with respect to each set in fuzzy_sets\n",
    "\"\"\"\n",
    "def fuzzify(x, fuzzy_sets):\n",
    "    ##CODE HERE\n",
    "    f_x = [] #lista de valores de pertenencia por cada conjunto difuso\n",
    "    \n",
    "    keys = fuzzy_sets.keys()\n",
    "    \n",
    "    for k in keys:\n",
    "        #CODE HERE: utilizar la funcion membership(x, membership_function, parameters)\n",
    "        membership = None\n",
    "        f_x.append(membership)\n",
    "    \n",
    "    return f_x"
   ]
  },
  {
   "cell_type": "markdown",
   "metadata": {},
   "source": [
    "Utilicemos la función genérica para fusificar la variable t=16.7"
   ]
  },
  {
   "cell_type": "code",
   "execution_count": 98,
   "metadata": {},
   "outputs": [
    {
     "name": "stdout",
     "output_type": "stream",
     "text": [
      "[0.6600000000000001, 0.22666666666666657, 0]\n"
     ]
    }
   ],
   "source": [
    "conjunto_baja = {\"a\":0, \"b\":0, \"c\":15, \"d\":20}\n",
    "conjunto_media = {\"a\":15, \"m\":22.5, \"b\":27.5}\n",
    "conjunto_alta = {\"a\":22.5, \"b\":30, \"c\":45, \"d\":45}\n",
    "\n",
    "funcion_baja = \"trapezoid\"\n",
    "funcion_media = \"triangular\"\n",
    "funcion_alta = \"trapezoid\"\n",
    "\n",
    "key_baja = \"baja\"\n",
    "key_media = \"media\"\n",
    "key_alta = \"alta\"\n",
    "\n",
    "t = 16.7\n",
    "fuzzy_sets = {key_baja:(funcion_baja, conjunto_baja), key_media:(funcion_media, conjunto_media), key_alta:(funcion_alta, conjunto_alta)}\n",
    "\n",
    "print(fuzzify(t, fuzzy_sets))"
   ]
  },
  {
   "cell_type": "markdown",
   "metadata": {},
   "source": [
    "<b>Salida esperada</b>: [0.6600000000000001, 0.22666666666666657, 0]"
   ]
  },
  {
   "cell_type": "markdown",
   "metadata": {},
   "source": [
    "<hr>\n",
    "## Base de reglas\n",
    "\n",
    "Estas reglas especifican el conocimiento del <font color=\"red\" size=3>experto humano</font> en forma de condicionales que utilizan los nombres de los conjuntos difusos que tienen las variables difusas. Es decir, estas reglas expresan la relación entre los valores lingüísticos de la entrada con respecto a la salida. \n",
    "\n",
    "Por ejemplo, utilizando este tipo de reglas y las variables difusas, podemos realizar preguntas en lenguaje natural, tales como: ¿Está la temperatura alta?\n",
    "\n",
    "Las reglas se construyen con instrucciones IF-THEN:\n",
    "\n",
    "<br>\n",
    "<center><font color=\"blue\" size=5>IF $x_1$ es \"bajo\" and $x_2$ es \"medio\" entonces $y$ es medio</font></center>\n",
    "\n",
    "Estas reglas requieres de operadores AND y OR especificamente diseñados para la lógica difusa."
   ]
  },
  {
   "cell_type": "markdown",
   "metadata": {},
   "source": [
    "<hr>\n",
    "## Operadores\n",
    "\n",
    "<img src=\"res/fuzzy/operators.png\">\n",
    "\n",
    "Dependiendo de la definición de las reglas, los antecedentes se pueden combinar con los operadores AND y OR, o cambiar su valor con la negación NOT.\n"
   ]
  },
  {
   "cell_type": "markdown",
   "metadata": {},
   "source": [
    "<hr>\n",
    "## Resolución de reglas y obtención de la salida\n",
    "\n",
    "La resolución de reglas se refiere a como se interpreta la regla desde la lógica difusa. El proceso es el siguiente:\n",
    "\n",
    "<ol>\n",
    "    <li>Seleccionar la pertenencia a la cuál hacen referencia los operandos de las reglas:</li>\n",
    "    <br>\n",
    "    <center><font color=\"blue\" size=5>If $\\mu_{bajo}(x_1)$ AND $\\mu_{medio}(x_2)$ entonces $\\mu_{medio}(y)$</font></center>\n",
    "    \n",
    "    <li>Resolver los operadores difusos del antecendente:</li>\n",
    "    <center><font color=\"blue\" size=5>$K_{r1}$ = AND($\\mu_{bajo}(x_1)$, $\\mu_{medio}(x_2))$</font></center>\n",
    "    \n",
    "    <li>Agrupar reglas con el mismo consecuente y aplicar operador OR:</li>\n",
    "    \n",
    "    <center><font color=\"red\" size=4> $A_{bajo} = $OR($K_{r1} \\in y_{bajo}$, $K_{r2} \\in y_{bajo}$,..., $K_{rn}\\in y_{bajo}$)</font></center>\n",
    "    <center><font color=\"red\" size=4> $A_{medio} = $OR($K_{r1} \\in y_{medio}$, $K_{r2} \\in y_{medio}$,..., $K_{rn}\\in y_{medio}$)</font></center>\n",
    "    <center><font color=\"red\" size=4> $A_{alto} = $OR($K_{r1} \\in y_{alto}$, $K_{r2} \\in y_{alto}$,..., $K_{rn}\\in y_{alto}$)</font></center>\n",
    "    \n",
    "    <li>Resolver el consecuente de la regla mediante implicación (MIN), para cada conjunto de la salida: </li>\n",
    "    <center><font color=\"blue\" size=5> $S_{bajo}$ = MIN($A_{bajo}$, $\\mu_{bajo}(y))$</font></center>\n",
    "    <center><font color=\"blue\" size=5> $S_{medio}$ = MIN($A_{medio}$, $\\mu_{medio}(y))$</font></center>\n",
    "    <center><font color=\"blue\" size=5> $S_{alto}$ = MIN($A_{alto}$, $\\mu_{alto}(y))$</font></center>\n",
    "    \n",
    "    <li>Obtener el área de respuesta aplicando el operador MAX entre todos los resultados de las reglas.</li>\n",
    "     <center><font color=\"blue\" size=5> $Y_{fuzzy}$ = $MAX(S_{bajo}, S_{medio}, S_{alto} )$</font></center>\n",
    "    \n",
    "    <li>Obtener el valor final de la regla mediante DESFUSIFICACION.</li>\n",
    "    <center><font color=\"blue\" size=5> $salida$ = $desfusificacion(Y_{fuzzy})$</font></center>\n",
    "</ol>"
   ]
  },
  {
   "cell_type": "markdown",
   "metadata": {},
   "source": [
    "<hr>\n",
    "## 2. Resolver operador difuso"
   ]
  },
  {
   "cell_type": "code",
   "execution_count": 61,
   "metadata": {
    "collapsed": true
   },
   "outputs": [],
   "source": [
    "\"\"\"\n",
    "Implements Zadeh's Fuzzy Operators.\n",
    "\n",
    "Arguments:\n",
    "operator -- string with name of operator: \"AND\", \"OR\", \"NOT\"\n",
    "parameters -- dictionary with parameters of operator\n",
    "\n",
    "Returns:\n",
    "k -- operators value\n",
    "\"\"\"\n",
    "\n",
    "def fuzzy_operator(operator, parameters):\n",
    "    k = 0\n",
    "    if(operator == \"AND\"):\n",
    "        a = parameters[\"a\"]\n",
    "        b = parameters[\"b\"]\n",
    "        k = min(a, b)\n",
    "    elif(operator == \"OR\"):\n",
    "        a = parameters[\"a\"]\n",
    "        b = parameters[\"b\"]\n",
    "        k = max(a, b)\n",
    "    elif(operator == \"NOT\"):\n",
    "        a = parameters[\"a\"]\n",
    "        k = 1 - a\n",
    "    else:\n",
    "        print(\"Invalid operator.\")\n",
    "    \n",
    "    return k"
   ]
  },
  {
   "cell_type": "code",
   "execution_count": 67,
   "metadata": {},
   "outputs": [
    {
     "name": "stdout",
     "output_type": "stream",
     "text": [
      "0.8\n"
     ]
    }
   ],
   "source": [
    "parameters = {\"a\": 0.2, \"b\": 0.8}\n",
    "print fuzzy_operator(\"OR\", parameters)"
   ]
  },
  {
   "cell_type": "markdown",
   "metadata": {},
   "source": [
    "<hr>\n",
    "## 3. Agrupar reglas (mismo consecuente)"
   ]
  },
  {
   "cell_type": "code",
   "execution_count": 100,
   "metadata": {
    "collapsed": true
   },
   "outputs": [],
   "source": [
    "\"\"\"\n",
    "Implements common consecuent grouping.\n",
    "\n",
    "Arguments:\n",
    "rules -- list of values A of rules with same consecuent\n",
    "\n",
    "Returns:\n",
    "val -- max from rules\n",
    "\"\"\"\n",
    "\n",
    "def group(rules):\n",
    "    val = np.max(rules)\n",
    "    return val"
   ]
  },
  {
   "cell_type": "code",
   "execution_count": 101,
   "metadata": {},
   "outputs": [
    {
     "name": "stdout",
     "output_type": "stream",
     "text": [
      "0.6\n"
     ]
    }
   ],
   "source": [
    "A1 = 0.2\n",
    "A2 = 0.1\n",
    "A3 = 0.6\n",
    "\n",
    "rules = [A1,A2,A3]\n",
    "\n",
    "print group(rules)"
   ]
  },
  {
   "cell_type": "markdown",
   "metadata": {},
   "source": [
    "<hr>\n",
    "## 4. Resolver consecuente mediante implicación"
   ]
  },
  {
   "cell_type": "code",
   "execution_count": null,
   "metadata": {
    "collapsed": true
   },
   "outputs": [],
   "source": [
    "\"\"\"\n",
    "Implements fuzzy implication (MIN).\n",
    "\n",
    "Arguments:\n",
    "A -- scalar from rules solving and grouping for output y_fuzzy_set\n",
    "y_fuzzy_set -- fuzzy set of variable y_fuzzy. A tuple: (membership_function(str), parameters(dictionary))\n",
    "\n",
    "Returns:\n",
    "s -- implication result. An array of numeric values.\n",
    "\"\"\"\n",
    "\n",
    "def implication(A, y_fuzzy):\n",
    "    "
   ]
  }
 ],
 "metadata": {
  "kernelspec": {
   "display_name": "Python 2",
   "language": "python",
   "name": "python2"
  },
  "language_info": {
   "codemirror_mode": {
    "name": "ipython",
    "version": 2
   },
   "file_extension": ".py",
   "mimetype": "text/x-python",
   "name": "python",
   "nbconvert_exporter": "python",
   "pygments_lexer": "ipython2",
   "version": "2.7.13"
  }
 },
 "nbformat": 4,
 "nbformat_minor": 2
}
