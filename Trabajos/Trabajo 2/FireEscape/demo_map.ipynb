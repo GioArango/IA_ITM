{
 "cells": [
  {
   "cell_type": "code",
   "execution_count": 154,
   "metadata": {},
   "outputs": [],
   "source": [
    "import pygame, sys\n",
    "from pygame.locals import *\n",
    "import numpy as np\n",
    "import time"
   ]
  },
  {
   "cell_type": "markdown",
   "metadata": {},
   "source": [
    "# Constantes del juego"
   ]
  },
  {
   "cell_type": "code",
   "execution_count": 155,
   "metadata": {},
   "outputs": [],
   "source": [
    "\n",
    "#useful game dimensions\n",
    "TILESIZE  = 64\n",
    "MAPWIDTH  = 8\n",
    "MAPHEIGHT = 8\n",
    "\n",
    "#constants representing colours\n",
    "BLACK = (0,   0,   0  )\n",
    "BLUE  = (0,   0,   255)\n",
    "RED = (255, 0, 0)\n",
    "WHITE = (255, 255, 255)\n",
    "GREEN = (0, 255, 0)\n",
    "\n",
    "#constants representing the different resources\n",
    "FIRE  = '3'\n",
    "PLAYER = '1'\n",
    "WALL = '2'\n",
    "FLOOR = '0'\n",
    "EXIT = '4'\n",
    "\n",
    "#a dictionary linking resources to colours\n",
    "colours =   {\n",
    "                FIRE  : RED,\n",
    "                PLAYER : BLUE,\n",
    "                WALL : BLACK,\n",
    "                FLOOR: WHITE,\n",
    "                EXIT: GREEN\n",
    "            }"
   ]
  },
  {
   "cell_type": "markdown",
   "metadata": {},
   "source": [
    "<hr>\n",
    "# 1. Generación del mapa\n",
    "\n",
    "La siguiente función genera un mapa a partir de un archivo de texto el cual contiene la matriz del mapa en valores numéricos.\n",
    "\n",
    "Los valores que puede tomar la matriz son:\n",
    "\n",
    "- **0**: Representa el piso o casillas válidas para moverse. (blanco)\n",
    "- **1**: Representa el jugador (máquina) al inicial del problema. (azul)\n",
    "- **2**: Representa una pared o casilla invalida para moverse. (negro)\n",
    "- **3**: Representa el fuego al inicio del problema. (rojo)\n",
    "- **4**: Representa un salida del edificio. (verde)"
   ]
  },
  {
   "cell_type": "code",
   "execution_count": 156,
   "metadata": {},
   "outputs": [],
   "source": [
    "def map_generator(map_file):\n",
    "    f = open(map_file)\n",
    "    \n",
    "    tile_map = []\n",
    "    \n",
    "    for line in f:\n",
    "        l = line.splitlines()\n",
    "        tile_map.append(l[0].split(','))\n",
    "\n",
    "    return tile_map\n",
    " \n",
    "#tilemap almacenara el mapa del juego\n",
    "tilemap = map_generator('mapa2.txt')\n",
    "tilemap\n",
    "\n",
    "pos_jugador = [4, 4]"
   ]
  },
  {
   "cell_type": "code",
   "execution_count": 157,
   "metadata": {},
   "outputs": [
    {
     "name": "stdout",
     "output_type": "stream",
     "text": [
      "[['0', '0', '0', '0', '0', '0', '0', '0'], ['0', '0', '0', '0', '0', '0', '0', '0'], ['4', '0', '2', '0', '0', '2', '0', '0'], ['0', '0', '2', '3', '0', '2', '0', '4'], ['0', '0', '2', '0', '1', '2', '0', '0'], ['0', '0', '2', '0', '0', '2', '0', '0'], ['0', '0', '0', '0', '0', '0', '0', '0'], ['0', '0', '0', '0', '0', '0', '0', '0']]\n"
     ]
    }
   ],
   "source": [
    "print tilemap"
   ]
  },
  {
   "cell_type": "markdown",
   "metadata": {},
   "source": [
    "# 2. Loop principal"
   ]
  },
  {
   "cell_type": "code",
   "execution_count": 151,
   "metadata": {},
   "outputs": [
    {
     "ename": "SystemExit",
     "evalue": "",
     "output_type": "error",
     "traceback": [
      "An exception has occurred, use %tb to see the full traceback.\n",
      "\u001b[1;31mSystemExit\u001b[0m\n"
     ]
    }
   ],
   "source": [
    "#configuracion de la pantalla\n",
    "pygame.init()\n",
    "DISPLAYSURF = pygame.display.set_mode((MAPWIDTH*TILESIZE,MAPHEIGHT*TILESIZE))\n",
    "\n",
    "x_step = 1\n",
    "\n",
    "#ciclo principal: infinito, hasta que se cierre la ventana\n",
    "while True:\n",
    "\n",
    "    #capturar los eventos del juego\n",
    "    for event in pygame.event.get():\n",
    "        #si el usuario cierra la ventana\n",
    "        if event.type == QUIT:\n",
    "            pygame.quit()\n",
    "            sys.exit()\n",
    "    \n",
    "    #renderizar el mapa casilla a casilla. alto.\n",
    "    for row in range(MAPHEIGHT):\n",
    "        #ancho\n",
    "        for column in range(MAPWIDTH):\n",
    "            #dibujar un rectangulo en la posicion (row, column) con el color que indique el mapa previamente cargado\n",
    "            pygame.draw.rect(DISPLAYSURF, colours[tilemap[row][column]], (column*TILESIZE,row*TILESIZE,TILESIZE,TILESIZE))\n",
    "            \n",
    "    #refrescar la pantalla\n",
    "    pygame.display.update()\n",
    "    \n",
    "    \n",
    "    '''\n",
    "    TODO: Minimax\n",
    "    En este espacio se debe realizar el proceso de minimax y cambiar la casilla de la lista tilemap que indique de que forma\n",
    "    se va a mover el jugador (maquina).\n",
    "    '''\n",
    "    \n",
    "    #EJEMPLO de movimiento del jugador (azul) modificando el mapa del juego\n",
    "    if(pos_jugador[0]>=7 or pos_jugador[0] <= 0):\n",
    "        x_step = x_step * -1\n",
    "    \n",
    "    tilemap[pos_jugador[0]][pos_jugador[1]] = '0'\n",
    "    pos_jugador[0] += x_step\n",
    "    #print pos_jugador\n",
    "    tilemap[pos_jugador[0]][pos_jugador[1]] = '1'\n",
    "    \n",
    "    \n",
    "    #retraso de medio segundo para visualizar el avance del juego\n",
    "    time.sleep(0.5)"
   ]
  },
  {
   "cell_type": "code",
   "execution_count": null,
   "metadata": {},
   "outputs": [],
   "source": []
  }
 ],
 "metadata": {
  "kernelspec": {
   "display_name": "Python 2",
   "language": "python",
   "name": "python2"
  },
  "language_info": {
   "codemirror_mode": {
    "name": "ipython",
    "version": 2
   },
   "file_extension": ".py",
   "mimetype": "text/x-python",
   "name": "python",
   "nbconvert_exporter": "python",
   "pygments_lexer": "ipython2",
   "version": "2.7.13"
  }
 },
 "nbformat": 4,
 "nbformat_minor": 2
}
