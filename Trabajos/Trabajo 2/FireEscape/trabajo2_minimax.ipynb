{
 "cells": [
  {
   "cell_type": "markdown",
   "metadata": {},
   "source": [
    " <img src=\"res/itm_logo.jpg\" width=\"300px\">\n",
    "\n",
    "## Inteligencia Artificial - IAI84\n",
    "### Instituto Tecnológico Metropolitano\n",
    "#### Pedro Atencio Ortiz - 2018"
   ]
  },
  {
   "cell_type": "markdown",
   "metadata": {},
   "source": [
    "<hr>\n",
    "## Trabajo No. 2: Minimax\n",
    "### Condiciones:\n",
    "- **Integrantes**: 3 personas máximo.\n",
    "- **Porcentaje evaluativo**: 10%\n",
    "- **Forma de entrega**: via correo electrónico a pedroatencio@itm.edu.co\n",
    "- **Formato de entrega**: jupyter notebook o aplicación ejecutable en caso de utilizar otra plataforma de desarrollo.\n",
    "- **Fecha de entrega**: 10 de marzo de 2018"
   ]
  },
  {
   "cell_type": "markdown",
   "metadata": {},
   "source": [
    "<hr>\n",
    "<center><img src='res/FireEscape.png'></center>\n",
    "\n",
    "# Descripción\n",
    "En este trabajo se presenta un juego diseñado por el profesor Pedro Atencio, llamado Fire Escape. El objetivo del mismo consiste en implementar minimax para que de manera automática, el programa determine, de forma dinámica, la ruta de escape de un jugador ficticio en un incendio dentro de un piso de un edificio. El programa o aplicación desarrollada debe aplicar MINIMAX para encontrar la ruta.\n",
    "\n",
    "- El juego se lleva a cabo por turnos, comenzando el jugador (máquina) y luego el fuego, iterativamente.\n",
    "- El juego se lleva a cabo en un mapa de 64 casillas distibuidas en un arreglo de 8 x 8.\n",
    "- Las opciones de movimiento válidas son izquierda-derecha-arriba-abajo\n",
    "\n",
    "En el juego existen casillas de distintos tipos:\n",
    "\n",
    "- **jugador (azul)**: jugador que controla el programa utilizando MINIMAX. El jugador se mueve una casilla a la vez y ocupa una sola casilla en un instante del juego.\n",
    "- **Fuego (rojo)**: elemento que se mueve de forma aleatoria un movimiento a la vez, en las casillas cercanas. El fuego crece en forma aditiva, es decir, que se van aumentando las celdas en que se ubica a medida que el juego avanza.\n",
    "- **pared (negro)**: casilla en la que no se puede realizar un movimiento y que bloquea el camino del jugador y del fuego.\n",
    "- **piso (blanco)**: casillas que no tienen fuego o pared en la que se puede avanzar mediante el jugador o el fuego.\n",
    "- **salida (verde)**: casilla objetivo, es decir, el juego finaliza una vez el jugador llegue a dicha casilla.\n",
    "\n",
    "\n",
    "## Condiciones de finalización\n",
    "El juego termina si se cumple alguna de las siguientes condiciones:\n",
    "\n",
    "1. El jugador llega a una casilla de salida.\n",
    "2. El fuego alcanza al jugador.\n",
    "\n",
    "<hr>\n",
    "# Actividades del trabajo\n",
    "\n",
    "\n",
    "# 1. Formular el problema (30%)\n",
    "Utilizando los conceptos abordados en clase. A saber:\n",
    "- Definición del espacio de estados.\n",
    "- Definición de la función de sucesión.\n",
    "- Estado inicial + estado objetivo.\n",
    "\n",
    "# 2. Desarrollar una aplicación (70%)\n",
    "Que utilice MINIMAX para calcular la mejor ruta de escapa, teniendo en cuenta las condiciones definidas anteriormente.\n"
   ]
  },
  {
   "cell_type": "markdown",
   "metadata": {},
   "source": [
    "<hr>\n",
    "# Demo\n",
    "\n",
    "- Se entrega un código de ejemplo denominado demo_map.ipynb.  Este demo utiliza la librería pygame, la cual deberán instalar utilizando pip.\n",
    "- En el demo se entrega una función para leer mapas a partir de un archivo de texto y desplegar dicho mapa utilizando pygame.\n",
    "- No es necesario entregar la aplicación utilizando una interfaz gráfica, por lo que si el resultado puede ver en forma de salidas de consola, la aplicación es válida."
   ]
  },
  {
   "cell_type": "code",
   "execution_count": null,
   "metadata": {
    "collapsed": true
   },
   "outputs": [],
   "source": []
  }
 ],
 "metadata": {
  "kernelspec": {
   "display_name": "Python 2",
   "language": "python",
   "name": "python2"
  },
  "language_info": {
   "codemirror_mode": {
    "name": "ipython",
    "version": 2
   },
   "file_extension": ".py",
   "mimetype": "text/x-python",
   "name": "python",
   "nbconvert_exporter": "python",
   "pygments_lexer": "ipython2",
   "version": "2.7.13"
  }
 },
 "nbformat": 4,
 "nbformat_minor": 2
}
