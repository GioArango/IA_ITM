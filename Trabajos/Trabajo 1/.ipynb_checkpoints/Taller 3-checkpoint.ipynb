{
 "cells": [
  {
   "cell_type": "markdown",
   "metadata": {},
   "source": [
    "### <img src=\"res/itm_logo.jpg\" width=\"300px\">\n",
    "\n",
    "## Inteligencia Artificial - IAI84\n",
    "## Taller # 3 - Algoritmos Bioinspirados - Algoritmos Genéticos\n",
    "### Instituto Tecnológico Metropolitano\n",
    "#### Pedro Atencio Ortiz - 2017"
   ]
  },
  {
   "cell_type": "markdown",
   "metadata": {},
   "source": [
    "<hr>\n",
    "### Porcentaje evaluativo: \n",
    "10%\n",
    "### Integrantes: \n",
    "3 (máximo)\n",
    "### Entregable: \n",
    "Notebook de jupyter con material informativo y códigos fuente (50%) + Sustentación en clase (50%).\n",
    "La calificación del notebook es grupal y la calificación de la sustentación es individual.\n",
    "### Forma de entrega: \n",
    "Correo electrónico a pedroatencio@itm.edu.co - asunto: IA_Taller3_nombre1_nombre2_nombre3\n",
    "### Fecha de entrega: \n",
    "Miércoles 20 de septiembre de 2017. La sustentación se realiza el sábado siguiente inmediato, en horario de clase."
   ]
  },
  {
   "cell_type": "markdown",
   "metadata": {},
   "source": [
    "<hr>\n",
    "## Recordemos!\n",
    "\n",
    "Un algoritmo genético es una técnica computacional de optimización bioinspirada, que toma elementos de la naturaleza tales como el cruce, la mutación y la selección, para generar un espacio de potenciales soluciones (población inicial) y mediante combinaciones entre estas ir convergiendo a una solución global.\n",
    "\n",
    "Una etapa importante de esta técnica consiste en la <b>SELECCIÓN</b>, proceso en el cuál se seleccionan dos soluciones (individuos) de la población inicial para ser cruzadas y obtener nuevas soluciones a partir de estas. Una forma de seleccionar es tomar dos soluciones de forma aleatoria. Otra forma consiste en tomar siempre los dos mejores.\n",
    "\n",
    "Como pudimos comprobar en clase, estas formas de selección generan, o mucha variación en el resultado (selección aleatoria) o convergencia en mínimos locales en el caso de la selección de siempre los mejores.\n",
    "\n",
    "Sin embargo, existe una mejor aproximación para la selección, que consiste en el algoritmo de la RULETA: https://github.com/petriu16/IA_ITM/blob/master/Material%20complementario/Algoritmos%20geneticos/AG_ITM.pdf (diapositiva 5).\n",
    "\n",
    "<img src='res/ag_ruleta.png'>"
   ]
  },
  {
   "cell_type": "markdown",
   "metadata": {},
   "source": [
    "<hr>\n",
    "El algoritmo de la ruleta consiste en asignar probabilidades de selección de cada individuo de una población, según su función de aptitud. Es decir, un individuo con una mayor aptitud tendrá una mayor <b>PROBABILIDAD</b> de ser <b>SELECCIONADO</b> que otro individuo con una menor aptitud.\n",
    "\n",
    "Esta probabilidad se calcula utilizando la siguiente ecuación:\n",
    "\n",
    "## <center>$p_i = \\frac{aptitud_i}{\\sum^{n}_{j=1}{aptitud_j}}$</center>\n",
    "\n",
    "Donde $p_i$ es la probabilidad de selección del individuo $i$ y $aptitud_i$ es el valor de la aptitud del individuo $i$ y $n$ es el número total de individuos de la población."
   ]
  },
  {
   "cell_type": "code",
   "execution_count": 1,
   "metadata": {},
   "outputs": [
    {
     "name": "stdout",
     "output_type": "stream",
     "text": [
      "('probabilidades: ', array([ 0.30915684,  0.05031732,  0.38440617,  0.11650045,  0.13961922]))\n",
      "('porcentajes (%): ', array([ 30.9156845 ,   5.03173164,  38.4406165 ,  11.65004533,  13.96192203]))\n",
      "('probabilidades: ', array([ 0.30915684,  0.05031732,  0.38440617,  0.11650045,  0.13961922]))\n",
      "('porcentajes (%): ', array([ 30.9156845 ,   5.03173164,  38.4406165 ,  11.65004533,  13.96192203]))\n"
     ]
    }
   ],
   "source": [
    "#implementemos el ejemplo de la dispositiva anterior\n",
    "\n",
    "import numpy as np\n",
    "\n",
    "aptitudes = np.array([6.82, 1.11, 8.48, 2.57, 3.08]) #funciones de aptitud de los individuos de la poblacion\n",
    "n = aptitudes.shape[0]\n",
    "\n",
    "#Calculemos las probabilidades utilizando ciclos (implementacion explicita)\n",
    "prob_loop = np.zeros([n])\n",
    "for i in range(n):\n",
    "    prob_loop[i] = aptitudes[i] / np.sum(aptitudes)\n",
    "    \n",
    "print(\"probabilidades: \", prob_loop)\n",
    "print(\"porcentajes (%): \", prob_loop*100)\n",
    "\n",
    "\n",
    "#Implementemos lo anterior en forma vectorizada\n",
    "prob_vect = aptitudes / np.sum(aptitudes)\n",
    "print(\"probabilidades: \", prob_vect)\n",
    "print(\"porcentajes (%): \", prob_vect*100)"
   ]
  },
  {
   "cell_type": "markdown",
   "metadata": {},
   "source": [
    "<hr>\n",
    "Ahora que tenemos las probabilidades de selección para cada individuo de la población, debemos ejecutar la ruleta, que consiste en generar un número aleatorio entre 0 y 1 o entre 0 y 100 y seleccionar el individuo cuya <b>SUMA ACUMULADA</b> de probabilidades sea mayor o igual al número aleatorio."
   ]
  },
  {
   "cell_type": "code",
   "execution_count": 3,
   "metadata": {},
   "outputs": [
    {
     "name": "stdout",
     "output_type": "stream",
     "text": [
      "('Ruleta generada: ', 0.8770649442514056)\n",
      "('probabilidades acumuladas: ', array([ 0.30915684,  0.35947416,  0.74388033,  0.86038078,  1.        ]))\n",
      "('individuo seleccionado: ', 4)\n"
     ]
    }
   ],
   "source": [
    "#Utilicemos la probabilidades calculadas anteriormente y ejecutemos la ruleta\n",
    "\n",
    "#1. calculemos el valor aleatorio de la ruleta\n",
    "ruleta_random = np.random.rand()\n",
    "print(\"Ruleta generada: \", ruleta_random)\n",
    "\n",
    "#2. calculemos las probabilidades acumuladas\n",
    "prob_acumuladas = np.cumsum(prob_loop)\n",
    "print(\"probabilidades acumuladas: \", prob_acumuladas)\n",
    "\n",
    "#3. seleccionemos un individuo segun el criterio explicado anteriormente\n",
    "#argmax retorna el indice del primer valor del vector que cumple con la condicion (prob_acumuladas >= ruleta_random)\n",
    "individuo_seleccionado = np.argmax(prob_acumuladas >= ruleta_random) \n",
    "print(\"individuo seleccionado: \", individuo_seleccionado)"
   ]
  },
  {
   "cell_type": "markdown",
   "metadata": {},
   "source": [
    "<hr>\n",
    "A la hora de implementar la ruleta dentro del algoritmo genético, <b>debe verificar que los dos individuos seleccionados sean DIFERENTES</b>, es decir, que en la ejecución de dos ruletas (una para cada individuo) no se seleccione el mismo individuo."
   ]
  },
  {
   "cell_type": "markdown",
   "metadata": {},
   "source": [
    "<hr>\n",
    "# Taller:\n",
    "\n",
    "El objetivo de este taller consiste en los siguientes puntos:\n",
    "<ol>\n",
    "<li>Implemente la <b>selección por ruleta</b> para los siguientes problemas: <font color=\"red\">(20% del 50%)</font> https://github.com/petriu16/IA_ITM/blob/master/Material%20complementario/Algoritmos%20geneticos/Taller%20en%20clase.pdf</li>\n",
    "<br>\n",
    "<li><b>En cada caso</b>, compare los resultados de la selección por ruleta versus la selección aleatoria, respecto a: <font color=\"red\">(50% del 50%)</font></li>\n",
    "    <ol>\n",
    "        <li>Promedio de iteraciones necesarias para converger a la mejor solución.</li>\n",
    "        <li>Variabilidad del resultado.</li>\n",
    "        <li>Impacto del tamaño de la población inicial en la calidad de la solución generada.</li>\n",
    "    </ol>\n",
    "<br> \n",
    "<li>Visualice mediante gráficos y tablas y argumente y discuta sobre los resutados de los puntos anteriores.<font color=\"red\">(30% del 50%)</font></li>\n",
    "</ol>"
   ]
  },
  {
   "cell_type": "code",
   "execution_count": null,
   "metadata": {
    "collapsed": true
   },
   "outputs": [],
   "source": []
  }
 ],
 "metadata": {
  "kernelspec": {
   "display_name": "Python 2",
   "language": "python",
   "name": "python2"
  },
  "language_info": {
   "codemirror_mode": {
    "name": "ipython",
    "version": 2
   },
   "file_extension": ".py",
   "mimetype": "text/x-python",
   "name": "python",
   "nbconvert_exporter": "python",
   "pygments_lexer": "ipython2",
   "version": "2.7.13"
  }
 },
 "nbformat": 4,
 "nbformat_minor": 2
}
