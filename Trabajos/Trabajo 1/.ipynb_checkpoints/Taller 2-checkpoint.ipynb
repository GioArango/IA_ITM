{
 "cells": [
  {
   "cell_type": "markdown",
   "metadata": {},
   "source": [
    " <img src=\"res/itm_logo.jpg\" width=\"300px\">\n",
    "\n",
    "## Inteligencia Artificial - IAI84\n",
    "## Taller # 2 - Estratégias de búsqueda informada y no-informada\n",
    "### Instituto Tecnológico Metropolitano\n",
    "#### Pedro Atencio Ortiz - 2017"
   ]
  },
  {
   "cell_type": "markdown",
   "metadata": {},
   "source": [
    "<hr>\n",
    "### Porcentaje evaluativo: \n",
    "20%\n",
    "### Integrantes: \n",
    "2 (máximo)\n",
    "### Entregable: \n",
    "Notebook de jupyter con material informativo y códigos fuente.\n",
    "### Forma de entrega: \n",
    "Correo electrónico a pedroatencio@itme.edu.co - asunto: IA_Taller2_nombre1_nombre2\n",
    "### Fecha de entrega: \n",
    "Miércoles 06 de septiembre de 2017"
   ]
  },
  {
   "cell_type": "markdown",
   "metadata": {},
   "source": [
    "<hr>\n",
    "## Recordemos!\n",
    "## Formulación de un problema de tipo determinista\n",
    "De manera formal, <font color=\"red\">un problema se define mediante 4 elementos</font>:\n",
    "<ul>\n",
    "    <li><font color=\"blue\"><b>Estado inicial</b></font>: Por ejemplo, \"en Arad.\"</li>\n",
    "    <br>\n",
    "    <li><font color=\"blue\"><b>Función de secuencia o sucesión</b> $$S(x)$$</font>: Retorna pares de acciones-estados a partir de un estado x.</li>\n",
    "    <br>\n",
    "    $$S(Arad)=\\left \\{ \\left \\langle Arad \\rightarrow Zerind, Zerind \\right \\rangle,... \\right \\}$$\n",
    "    <br>\n",
    "    <li><font color=\"blue\"><b>Objetivo:</b></font>, puede ser:\n",
    "        <ul>\n",
    "            <li><font color=\"green\">Explícito</font>: Ejemplo, $$x = \"Bucharest\"$$</li>\n",
    "            <br>\n",
    "            <li><font color=\"green\">Implícito</font>: Ejemplo, $$Limpio(x)$$</li>\n",
    "        </ul>\n",
    "    </li>\n",
    "    <br>\n",
    "    <li><font color=\"blue\"><b>Costo de ruta(aditivo)</b></font>: Por ejemplo, la suma de las distancias o el número de acciones ejecutadas.</li>\n",
    "    <br>\n",
    "        <li>Una <font color=\"blue\"><b>solución</b></font>: una secuencia que conduce del estado inicial al estado objetivo.</li>\n",
    "</ul>"
   ]
  },
  {
   "cell_type": "markdown",
   "metadata": {},
   "source": [
    "<hr>\n",
    "## Recordemos!\n",
    "## Función heurística\n",
    "<br>\n",
    "<font size=2>\n",
    "<ul>\n",
    "    <li>Esta función toma un nodo <font color=\"blue\"><i>n</i></font> y retorna un valor no-negativo el cual es una estimación del costo de ruta desde el nodo <font color=\"blue\"><i>n</i></font> hasta el nodo objetivo.</li>\n",
    "    <br>\n",
    "    <li>La función heurística es una forma de brindar información a la búsqueda, sobre la dirección hacia el objetivo.</li>\n",
    "    <br>\n",
    "    <li>Esta función debe utilizar información que pueda ser obtenida a partir del espacio de estados.</li>\n",
    "    <br>\n",
    "    <li>Una forma de construir una función heurística, consiste estimar un costo en un problema más simple y utilizar dicho costo como <font color=\"blue\"><i>h(n)</i></font>.</li>\n",
    "    <br>\n",
    "    <li>Es monotónicamente DECRECIENTE, es decir, entre más cerca se encuentre un estado del objetivo, menor será el valor de <font color=\"blue\"><i>h(n)</i></font>.</li>\n",
    "</ul>\n",
    "</font>"
   ]
  },
  {
   "cell_type": "markdown",
   "metadata": {},
   "source": [
    "<hr>\n",
    "## 1. Analizar, proponer y argumentar (APA) (10%):\n",
    "<ul>\n",
    "<li>Analice el problema de las torres de Hanoi <font color=\"red\">para N-Discos</font> y APA sobre si el árbol de estados de dicho problema es principalmente ancho o profundo.</li>\n",
    "<br>\n",
    "<li>Utilizando como base la respuesta anterior, ¿cuál estrategia de búsqueda no-informada sería más apropiada para encontrar una solución?.</li>\n",
    "<br>\n",
    "<li>Para la utilización de estrategias de búsqueda informada, es necesario contar con una función heurística <font color=\"blue\">$h(n)$</font></li> y una función de costo de ruta <font color=\"blue\">$g(n)$</font>, combinadas mediante una función de evaluación <font color=\"blue\">$f(n) = g(n)+h(n)$</font>. Según lo anterior, y las definiciones tratadas en clase: <font size=\"3\"> proponga una función heurística para el problema de las torres de Hanoi de N-Discos y verifique de alguna forma, que dicha heurística es admisible.</font>\n",
    "<br>\n",
    "</ul>"
   ]
  },
  {
   "cell_type": "markdown",
   "metadata": {},
   "source": [
    "<hr>\n",
    "## 2. Implemente (10%)\n",
    "Utilizando el código base entregado en clase (A-star) y la función S propuesta en el Taller 1 para las torres de Hanoi de 3 discos, implemente el algoritmo A-star para buscar la solución del problema (<font color=\"red\">secuencia de estados</font> que conducen del estado inicial al objetivo).\n",
    "\n",
    "### A considerar:\n",
    "<ol>\n",
    "    <li>Reemplace la función generar_nodos_hijos, adaptando la función S que propuso en el Taller 1.</li>\n",
    "    <li>Reemplace la función calcular_conflictos, por la función heurística que proponga para este problema.</li>\n",
    "    <li>Modifique el constructor de la clase nodo_NReinas, para que se adapte a la estructura de datos que usted haya definido para representar un estado del problema de las torres de Hanoi de 3 discos.</li>\n",
    "</ol>"
   ]
  },
  {
   "cell_type": "code",
   "execution_count": null,
   "metadata": {
    "collapsed": true
   },
   "outputs": [],
   "source": []
  }
 ],
 "metadata": {
  "kernelspec": {
   "display_name": "Python 2",
   "language": "python",
   "name": "python2"
  },
  "language_info": {
   "codemirror_mode": {
    "name": "ipython",
    "version": 2
   },
   "file_extension": ".py",
   "mimetype": "text/x-python",
   "name": "python",
   "nbconvert_exporter": "python",
   "pygments_lexer": "ipython2",
   "version": "2.7.13"
  }
 },
 "nbformat": 4,
 "nbformat_minor": 2
}
