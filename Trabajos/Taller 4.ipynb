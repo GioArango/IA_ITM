{
 "cells": [
  {
   "cell_type": "markdown",
   "metadata": {},
   "source": [
    "#### <img src=\"res/itm_logo.jpg\" width=\"300px\">\n",
    "\n",
    "## Inteligencia Artificial - IAI84\n",
    "## Taller de recuperación - Lógica Borrosa (Fuzzy Logic)\n",
    "### Instituto Tecnológico Metropolitano\n",
    "#### Pedro Atencio Ortiz - 2017"
   ]
  },
  {
   "cell_type": "markdown",
   "metadata": {},
   "source": [
    "<hr>\n",
    "### Porcentaje de evaluación: \n",
    "20% + 5% de recuperación del punto 3\n",
    "### Integrantes: \n",
    "3 (máximo)\n",
    "### Entregable: \n",
    "Notebook de jupyter con material informativo y códigos fuente.\n",
    "### Forma de entrega: \n",
    "Correo electrónico a pedroatencio@itm.edu.co - asunto: IA_Taller4_nombre1_nombre2_nombre3\n",
    "### Fecha de asignación:\n",
    "Martes 26 de septiembre de 2017\n",
    "### Fecha de entrega: \n",
    "Miercoles 04 de octubre de 2017."
   ]
  },
  {
   "cell_type": "markdown",
   "metadata": {
    "collapsed": true
   },
   "source": [
    "<hr>\n",
    "## 1. Implementar (10%)\n",
    "Como vimos en la clase anterior, la última etapa de una solución de lógica borrosa, consiste en la defusificación. Mediante esta etapa se obtiene el valor de salida (crisp / concreto) proveniente del análisis de las reglas borrosas y los valores de entrada.\n",
    "\n",
    "Las dos formas más conocidas de defusificación son: método del centroide y el método del bisector. En clase implementamos el método del centroide utilizando Python y realizamos un ejemplo completo de aplicación.  \n",
    "<br>\n",
    "<font color=\"red\" size=\"3\"><b>Implementar el método del BISECTOR y comparar la salida respecto al mismo ejemplo implementado en clase.</b></font>"
   ]
  },
  {
   "cell_type": "markdown",
   "metadata": {},
   "source": [
    "<hr>\n",
    "## 2. Analizar y Diseñar (10%)\n",
    "La alcaldía de Medellin está interesada en desarrollar una solución computacional que permita determinar en \"tiempo real\" el nivel de contaminación en el valle de aburrá. Para ello contrata a un grupo de expertos en inteligencia artificial para desarrollar un modelo computacional para este propósito. Entre las tareas del grupo se encuentran:\n",
    "<ol>\n",
    " <li>Estudiar las variables relacionadas con el nivel de contaminación.</li>\n",
    " <li>Identificar sensores existententes (por ejemplo el SIATA) y nuevos (propuestos) para la medición de dichas variables relacionadas.</li>\n",
    " <li>Caracterizar el comportamiento de dichos sensores respecto al nivel de contaminación.</li>\n",
    " <li>Plantear un modelo computacional que permita determinar el nivel de contaminación del valle de aburrá que utilice los sensores previamente caracterizados.</li>\n",
    "</ol>\n",
    "\n",
    "Los expertos deciden utilizar lógica borrosa (fuzzy logic) para construir dicho modelo o solución.\n",
    "\n",
    "<br>\n",
    "<font color=\"red\" size=\"3\"><b>Diseñe en forma conceptual, cada una de las etapas de la solución fuzzy hipotética para el problema anterior:</b></font>\n",
    "<ul>\n",
    "    <li>Definir las variables (sensores o fuentes de datos) que se utilizaran para monitorear la contaminación. Estos sensores deben ser REALES, es decir, deben existir en forma de servicios de datos o equipos que se puedan comprar.</li>\n",
    "    <li>Definir los conjuntos fuzzy para las variables de entrada (sensores) y la variable de salida (nivel de contaminación). Recordar que los conjuntos fuzzy se definen según la función de pertenencia y los rangos de valores.</li>\n",
    "    <li>Proponer la base de reglas. Reglas de tipo SI-ENTONCES cuyo antecendente hace referencia a las variables de entrada y el consecuente a la salida.</li>\n",
    "    <li>Seleccionar el método de defusificación.</li>\n",
    "</ul>"
   ]
  },
  {
   "cell_type": "markdown",
   "metadata": {},
   "source": [
    "<hr>\n",
    "## 3. Implementar (5% de recuperación)\n",
    "Proponga un <b>DEMO</b> del sistema para presentar a los directivos de la alcaldía, utilizando el análisis anterior y las implementaciones realizadas en clase. Los valores de entrada se ingresan de forma manual."
   ]
  },
  {
   "cell_type": "code",
   "execution_count": null,
   "metadata": {
    "collapsed": true
   },
   "outputs": [],
   "source": []
  }
 ],
 "metadata": {
  "kernelspec": {
   "display_name": "Python 2",
   "language": "python",
   "name": "python2"
  },
  "language_info": {
   "codemirror_mode": {
    "name": "ipython",
    "version": 2
   },
   "file_extension": ".py",
   "mimetype": "text/x-python",
   "name": "python",
   "nbconvert_exporter": "python",
   "pygments_lexer": "ipython2",
   "version": "2.7.13"
  }
 },
 "nbformat": 4,
 "nbformat_minor": 2
}
