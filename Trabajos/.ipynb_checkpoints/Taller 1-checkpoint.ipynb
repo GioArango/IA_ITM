{
 "cells": [
  {
   "cell_type": "markdown",
   "metadata": {},
   "source": [
    " <img src=\"res/itm_logo.jpg\" width=\"300px\">\n",
    "\n",
    "## Inteligencia Artificial - IAI84\n",
    "## Taller # 1 - Solución de problemas mediante búsqueda\n",
    "### Instituto Tecnológico Metropolitano\n",
    "#### Pedro Atencio Ortiz - 2017"
   ]
  },
  {
   "cell_type": "markdown",
   "metadata": {},
   "source": [
    "<hr>\n",
    "### Integrantes: \n",
    "2 (máximo)\n",
    "### Entregable: \n",
    "Notebook de jupyter con material informativo y códigos fuente.\n",
    "### Forma de entrega: \n",
    "Correo electrónico a pedroatencio@itme.edu.co - asunto: IA_Taller1_nombre1_nombre2\n",
    "### Fecha de entrega: \n",
    "Sábado 19 de agosto a más tardar 11:00 p.m."
   ]
  },
  {
   "cell_type": "markdown",
   "metadata": {},
   "source": [
    "<hr>\n",
    "## Recordemos!\n",
    "## Formulación de un problema de tipo determinista\n",
    "De manera formal, <font color=\"red\">un problema se define mediante 4 elementos</font>:\n",
    "<ul>\n",
    "    <li><font color=\"blue\"><b>Estado inicial</b></font>: Por ejemplo, \"en Arad.\"</li>\n",
    "    <br>\n",
    "    <li><font color=\"blue\"><b>Función de secuencia o sucesión</b> $$S(x)$$</font>: Retorna pares de acciones-estados a partir de un estado x.</li>\n",
    "    <br>\n",
    "    $$S(Arad)=\\left \\{ \\left \\langle Arad \\rightarrow Zerind, Zerind \\right \\rangle,... \\right \\}$$\n",
    "    <br>\n",
    "    <li><font color=\"blue\"><b>Objetivo:</b></font>, puede ser:\n",
    "        <ul>\n",
    "            <li><font color=\"green\">Explícito</font>: Ejemplo, $$x = \"Bucharest\"$$</li>\n",
    "            <br>\n",
    "            <li><font color=\"green\">Implícito</font>: Ejemplo, $$Limpio(x)$$</li>\n",
    "        </ul>\n",
    "    </li>\n",
    "    <br>\n",
    "    <li><font color=\"blue\"><b>Costo de ruta(aditivo)</b></font>: Por ejemplo, la suma de las distancias o el número de acciones ejecutadas.</li>\n",
    "    <br>\n",
    "        <li>Una <font color=\"blue\"><b>solución</b></font>: una secuencia que conduce del estado inicial al estado objetivo.</li>\n",
    "</ul>"
   ]
  },
  {
   "cell_type": "markdown",
   "metadata": {},
   "source": [
    "<hr>\n",
    "## Tópico del taller: Formulación de problemas - single-state\n",
    "### 1. Para los siguientes problemas:\n",
    "Definir en forma de implementación computacional, el estado inicial, la función de secuencia o sucesión, el objetivo y el costo de ruta:\n",
    "<ul>\n",
    "<li>Problema de las torres de Hanoi para 3 discos.</li>\n",
    "<br>\n",
    "<li>Problema de las 8-reinas.</li>\n",
    "<br>\n",
    "</ul>"
   ]
  },
  {
   "cell_type": "code",
   "execution_count": 1,
   "metadata": {
    "collapsed": true
   },
   "outputs": [],
   "source": [
    "'''\n",
    "Puede utilizar el siguiente codigo como base,\n",
    "O puede realizar su propia implementacion\n",
    "'''\n",
    "\n",
    "# clase o estructura de datos para representar un estado del problema\n",
    "class Estado():\n",
    "    def __init__(self): #constructor de la clase\n",
    "        '''\n",
    "        Crear aqui las estructuras que se requieran para\n",
    "        representar un estado del problema\n",
    "        '''\n",
    "        return\n",
    "\n",
    "def S(estado_actual):\n",
    "    '''\n",
    "    Crear aqui la funcion que retorna la lista de estados que se pueden derivar\n",
    "    a partir del estado actual.\n",
    "    Nota: En este caso podemos obviar la accion y solo retornar el estado resultante.\n",
    "    [estado_resultante1,estado_resultante2,...,estado_resultanteN]\n",
    "    '''\n",
    "    return\n",
    "\n",
    "#estado_inicial = Estado()\n",
    "#objetivo = Estado()\n",
    "#costo_ruta = constante o estructura de datos, dependiendo de lo que usted defina como costo."
   ]
  },
  {
   "cell_type": "markdown",
   "metadata": {},
   "source": [
    "<hr>\n",
    "## 2. Analice y argumente (detalle lo mejor posible)\n",
    "<br>\n",
    "El problema del viajero se puede apreciar en la siguiente figura: Dado un mapa de ciudades y costos entre ciudades, encontrar la mejor ruta que conduce de una ciudad inicial a una ciudad objetivo. \n",
    "<br><br>\n",
    "El espacio de posibilidades de este problema se puede representar como un grafo no-dirigido y la funcion de secuencia o sucesión S(ciudad), depende de dicho grafo.\n",
    "<br><br>\n",
    "Teniendo en cuenta lo anterior, <font color=\"red\">de qué forma podría evitar que la función S, genere ciclos infinitos entre ciudades?</font>\n",
    "<img src=\"res/rumanian_map.png\" width=\"600px\">\n",
    "<br>\n"
   ]
  }
 ],
 "metadata": {
  "kernelspec": {
   "display_name": "Python 2",
   "language": "python",
   "name": "python2"
  },
  "language_info": {
   "codemirror_mode": {
    "name": "ipython",
    "version": 2
   },
   "file_extension": ".py",
   "mimetype": "text/x-python",
   "name": "python",
   "nbconvert_exporter": "python",
   "pygments_lexer": "ipython2",
   "version": "2.7.13"
  }
 },
 "nbformat": 4,
 "nbformat_minor": 2
}
